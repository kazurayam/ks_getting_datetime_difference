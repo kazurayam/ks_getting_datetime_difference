{
 "cells": [
  {
   "cell_type": "code",
   "execution_count": 1,
   "metadata": {},
   "outputs": [],
   "source": [
    "const timerEndsAt1 = '21/02/2024 14:28';\n",
    "const timerEndsAt2 = '21/02/2024 14:43';"
   ]
  },
  {
   "cell_type": "code",
   "execution_count": 4,
   "metadata": {},
   "outputs": [
    {
     "name": "stdout",
     "output_type": "stream",
     "text": [
      "true\n",
      "true\n"
     ]
    }
   ],
   "source": [
    "const re = new RegExp('([0-9]{2})/([0-9]{2})/([0-9]{4}) ([0-9]{2}):([0-9]{2})');\n",
    "console.log(re.test(timerEndsAt1));\n",
    "console.log(re.test(timerEndsAt2));"
   ]
  },
  {
   "cell_type": "code",
   "execution_count": 5,
   "metadata": {},
   "outputs": [
    {
     "name": "stdout",
     "output_type": "stream",
     "text": [
      "21/02/2024 14:28\n",
      "21\n",
      "02\n",
      "2024\n",
      "14\n",
      "28\n"
     ]
    }
   ],
   "source": [
    "let results = timerEndsAt1.match(re);\n",
    "for (let item of results) {\n",
    "  console.log(item);\n",
    "}"
   ]
  },
  {
   "cell_type": "code",
   "execution_count": 9,
   "metadata": {},
   "outputs": [],
   "source": [
    "function toDateTime(timerEndsAt) {  // '21/02/2024 14:28'\n",
    "  const re = new RegExp('([0-9]{2})/([0-9]{2})/([0-9]{4}) ([0-9]{2}):([0-9]{2})');\n",
    "  let results = timerEndsAt.match(re);\n",
    "  let date = new Date(results[3], results[2] - 1, results[1], results[4], results[5])\n",
    "  return date;\n",
    "}"
   ]
  },
  {
   "cell_type": "code",
   "execution_count": 13,
   "metadata": {},
   "outputs": [
    {
     "name": "stdout",
     "output_type": "stream",
     "text": [
      "2024-02-21T05:28:00.000Z\n"
     ]
    }
   ],
   "source": [
    "let dt = toDateTime(timerEndsAt1)\n",
    "console.log(dt);"
   ]
  },
  {
   "cell_type": "code",
   "execution_count": 14,
   "metadata": {},
   "outputs": [
    {
     "name": "stdout",
     "output_type": "stream",
     "text": [
      "difference: 15 minutes\n"
     ]
    }
   ],
   "source": [
    "let dt1 = toDateTime(timerEndsAt1);\n",
    "let dt2 = toDateTime(timerEndsAt2);\n",
    "let diffMinutes = (dt2.getTime() - dt1.getTime()) / (1000 * 60);\n",
    "console.log(`difference: ${diffMinutes} minutes`);"
   ]
  },
  {
   "cell_type": "code",
   "execution_count": 16,
   "metadata": {},
   "outputs": [
    {
     "name": "stdout",
     "output_type": "stream",
     "text": [
      "difference: 15 minutes\n"
     ]
    }
   ],
   "source": [
    "function dateTimeDifferenceMinutes(timerEndsAt1, timerEndsAt2) {\n",
    "  let dt1 = toDateTime(timerEndsAt1);\n",
    "  let dt2 = toDateTime(timerEndsAt2);\n",
    "  let diffMinutes = (dt2.getTime() - dt1.getTime()) / (1000 * 60);\n",
    "  return diffMinutes;\n",
    "}\n",
    "const diffMinutes2 = dateTimeDifferenceMinutes(timerEndsAt1, timerEndsAt2);\n",
    "console.log(`difference: ${diffMinutes2} minutes`);"
   ]
  }
 ],
 "metadata": {
  "kernelspec": {
   "display_name": "Deno",
   "language": "typescript",
   "name": "deno"
  },
  "language_info": {
   "file_extension": ".ts",
   "mimetype": "text/x.typescript",
   "name": "typescript",
   "nb_converter": "script",
   "pygments_lexer": "typescript",
   "version": "5.3.3"
  }
 },
 "nbformat": 4,
 "nbformat_minor": 2
}
